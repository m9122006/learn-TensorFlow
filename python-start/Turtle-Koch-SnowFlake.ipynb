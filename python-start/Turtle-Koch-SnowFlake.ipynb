{
 "cells": [
  {
   "cell_type": "markdown",
   "metadata": {},
   "source": [
    "[Turtle](https://docs.python.org/zh-cn/3/library/turtle.html#module-turtle)  Koch Snow Flake"
   ]
  },
  {
   "cell_type": "markdown",
   "metadata": {},
   "source": [
    "import turtle as tl\n",
    "\n",
    "koch_set = \"FRFRFRFRF\"\n",
    "iterations = 3\n",
    "\n",
    "for i in range(iterations):\n",
    "    koch_set = koch_set.replace(\"F\",\"FLFRFLF\")\n",
    "\n",
    "tl.down()\n",
    "\n",
    "for move in koch_set:\n",
    "    if move == \"F\":\n",
    "        tl.forward(100.0 / (3 ** (iterations - 1)))\n",
    "    elif move == \"L\":\n",
    "        tl.left(60)\n",
    "    elif move == \"R\":\n",
    "        tl.right(120)"
   ]
  },
  {
   "cell_type": "code",
   "execution_count": null,
   "metadata": {},
   "outputs": [],
   "source": [
    "tl.bye()"
   ]
  },
  {
   "cell_type": "code",
   "execution_count": null,
   "metadata": {},
   "outputs": [],
   "source": []
  }
 ],
 "metadata": {
  "kernelspec": {
   "display_name": "Python 3",
   "language": "python",
   "name": "python3"
  },
  "language_info": {
   "codemirror_mode": {
    "name": "ipython",
    "version": 3
   },
   "file_extension": ".py",
   "mimetype": "text/x-python",
   "name": "python",
   "nbconvert_exporter": "python",
   "pygments_lexer": "ipython3",
   "version": "3.7.3"
  }
 },
 "nbformat": 4,
 "nbformat_minor": 2
}
