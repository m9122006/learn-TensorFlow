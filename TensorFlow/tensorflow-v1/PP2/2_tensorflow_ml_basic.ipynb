{
 "cells": [
  {
   "cell_type": "markdown",
   "metadata": {},
   "source": [
    "# tensorflow Variables\n",
    "\n",
    "### 变量创建："
   ]
  },
  {
   "cell_type": "code",
   "execution_count": null,
   "metadata": {},
   "outputs": [],
   "source": [
    "import tensorflow as tf"
   ]
  },
  {
   "cell_type": "code",
   "execution_count": null,
   "metadata": {},
   "outputs": [],
   "source": [
    "weights = tf.Variable(tf.random_normal([784, 10], stddev=0.35), name='weights') \n",
    "biases = tf.Variable(tf.zeros(10), name='biases')\n",
    "my_variable = tf.get_variable('my_variable', [1, 2, 3])"
   ]
  },
  {
   "cell_type": "markdown",
   "metadata": {},
   "source": [
    "### 指定变量存储设备："
   ]
  },
  {
   "cell_type": "code",
   "execution_count": null,
   "metadata": {},
   "outputs": [],
   "source": [
    "with tf.device(“/cpu:0”): \n",
    "  v = tf.Variable(…)\n",
    "with tf.device(“/gpu:0”): \n",
    "  v = tf.Variable(…)"
   ]
  },
  {
   "cell_type": "markdown",
   "metadata": {},
   "source": [
    "### 变量初始化：\n",
    "\n",
    "tensorflow在变量使用之前必须初始化"
   ]
  },
  {
   "cell_type": "markdown",
   "metadata": {},
   "source": [
    "#### 全局变量初始化："
   ]
  },
  {
   "cell_type": "code",
   "execution_count": null,
   "metadata": {},
   "outputs": [],
   "source": [
    "init_op = tf.global_variables_initializer()\n",
    "sess.run(init_op)"
   ]
  },
  {
   "cell_type": "markdown",
   "metadata": {},
   "source": [
    "#### 局部变量初始化："
   ]
  },
  {
   "cell_type": "code",
   "execution_count": null,
   "metadata": {},
   "outputs": [],
   "source": [
    "init_op = tf.local_variables_initializer()\n",
    "sess.run(init_op)"
   ]
  },
  {
   "cell_type": "raw",
   "metadata": {},
   "source": [
    "tensorflow变量的保存与加载跟模型的保存与加载（checkpoint）很类似，这部分很重要。"
   ]
  },
  {
   "cell_type": "markdown",
   "metadata": {},
   "source": [
    "### 变量保存："
   ]
  },
  {
   "cell_type": "code",
   "execution_count": null,
   "metadata": {},
   "outputs": [],
   "source": [
    "saver=tf.saver()\n",
    "v1 = tf.Variable(…, name='v1') \n",
    "v2 = tf.Variable(…, name='v2') \n",
    "init_op = tf.global_variables_initializer()\n",
    "\n",
    "with tf.Session() as sess:\n",
    "  sess.run(init_op)\n",
    "save_path = saver.save(sess, './tmp/model.ckpt') \n",
    "print('Model saved in file: %s'' % save_path)"
   ]
  },
  {
   "cell_type": "markdown",
   "metadata": {},
   "source": [
    "### 变量加载："
   ]
  },
  {
   "cell_type": "code",
   "execution_count": null,
   "metadata": {},
   "outputs": [],
   "source": [
    "v1 = tf.Variable(…, name='v1') \n",
    "v2 = tf.Variable(…, name='v2') \n",
    "saver = tf.train.Saver()\n",
    "with tf.Session() as sess:\n",
    "   saver.restore(sess, './tmp/model.ckpt') \n",
    "print('Model restored.'')"
   ]
  },
  {
   "cell_type": "markdown",
   "metadata": {},
   "source": [
    "### 打印graph中所有训练变量"
   ]
  },
  {
   "cell_type": "code",
   "execution_count": null,
   "metadata": {},
   "outputs": [],
   "source": [
    "variable_names = [v.name for v in tf.trainable_variables()]\n",
    "print(variable_names)"
   ]
  },
  {
   "cell_type": "markdown",
   "metadata": {},
   "source": [
    "### 打印所有变量以及值"
   ]
  },
  {
   "cell_type": "code",
   "execution_count": null,
   "metadata": {},
   "outputs": [],
   "source": [
    "variable_names = [v.name for v in tf.trainable_variables()]\n",
    "values = sess.run(variable_names)\n",
    "for k,v in zip(variable_names, values):\n",
    "    print(\"Variable: \", k)\n",
    "    print(\"Shape: \", v.shape)\n",
    "    print(v)"
   ]
  },
  {
   "cell_type": "raw",
   "metadata": {},
   "source": [
    "所有训练变量与所有变量"
   ]
  },
  {
   "cell_type": "code",
   "execution_count": null,
   "metadata": {},
   "outputs": [],
   "source": [
    "tf.trainable_variables () #指的是需要训练的变量\n",
    "tf.all_variables() #指的是所有变量"
   ]
  },
  {
   "cell_type": "markdown",
   "metadata": {},
   "source": [
    "### namescope\n",
    "通过变量的命名域很容易对命名域内的变量进行操作。\n",
    "例如打印某一命名域下的变量："
   ]
  },
  {
   "cell_type": "code",
   "execution_count": null,
   "metadata": {},
   "outputs": [],
   "source": [
    "for var in tf.trainable_variables():\n",
    "     if var.name.lower().find('cltdevelop'):\n",
    "        print(var)"
   ]
  },
  {
   "cell_type": "markdown",
   "metadata": {},
   "source": [
    "命名域(name scope)：通过tf.name_scope()来实现；\n",
    "\n",
    "变量域（variable scope）：通过tf.variable_scope()来实现；可以通过设置reuse 标志以及初始化方式来影响域下的变量。 (__reuse标志很重要__，在训练和测试的过程中，由于Batch Normalization的存在，需要更改is_training 的参数，这个时候需要建立两个graph分别用于训练和测试，需要利用variable reuse)\n",
    "\n",
    "这两种作用域都会给tf.Variable()创建的变量加上词头，而tf.name_scope对tf.get_variable()创建的变量没有词头影响，代码如下\n",
    "tf.Variable()：只要使用该函数，一律创建新的variable，如果出现重名，变量名后面会自动加上后缀1，2…"
   ]
  },
  {
   "cell_type": "code",
   "execution_count": null,
   "metadata": {},
   "outputs": [],
   "source": [
    "import tensorflow as tf\n",
    "\n",
    "with tf.name_scope('cltdevelop'):\n",
    "    var_1 = tf.Variable(initial_value=[0], name='var_1')\n",
    "    var_2 = tf.Variable(initial_value=[0], name='var_1')\n",
    "    var_3 = tf.Variable(initial_value=[0], name='var_1')\n",
    "print(var_1.name)\n",
    "print(var_2.name)\n",
    "print(var_3.name)"
   ]
  },
  {
   "cell_type": "raw",
   "metadata": {},
   "source": [
    "结果"
   ]
  },
  {
   "cell_type": "code",
   "execution_count": null,
   "metadata": {},
   "outputs": [],
   "source": [
    "cltdevelop/var_1:0\n",
    "cltdevelop/var_1_1:0\n",
    "cltdevelop/var_1_2:0"
   ]
  },
  {
   "cell_type": "markdown",
   "metadata": {},
   "source": [
    "# tensorflow Operation"
   ]
  },
  {
   "cell_type": "raw",
   "metadata": {},
   "source": [
    "一个operation就是Tensorflow Graph中的一个计算节点。\n",
    "\n",
    "其接收零个或者多个Tensor对象作为输入，然后产生零个或者多个Tensor对象作为输出。\n",
    "\n",
    "Operation对象的创建是通过直接调用Python operation方法（例如tf.matmul()）或者Graph.create_op()。\n",
    "\n",
    "例如`c = tf.matmul(a, b)`表示创建了一个类型为MatMul的Operation，该Operation接收Tensor a和Tensor b作为输入，而产生Tensor c作为输出。\n",
    "\n",
    "当一个Graph加载到一个Session中，则可以调用Session.run(op)来执行op，或者调用op.run()来执行（op.run()是tf.get_default_session().run()的缩写）。"
   ]
  },
  {
   "cell_type": "markdown",
   "metadata": {},
   "source": [
    "# tensorflow Graph"
   ]
  },
  {
   "cell_type": "raw",
   "metadata": {},
   "source": [
    "一个TensorFlow的运算，被表示为一个数据流的图。 \n",
    "\n",
    "一幅图中包含一些操作（Operation）对象，这些对象是计算节点。Tensor对象，则是表示在不同的操作（operation）间的数据节点\n",
    "\n",
    "你一旦开始你的任务，就已经有一个默认的图已经创建好了。而且可以通过调用tf.get_default_graph()来访问到\n",
    "\n",
    "添加一个操作到默认的图里面，只要简单的调用一个定义了新操作的函数就行。\n",
    "\n"
   ]
  },
  {
   "cell_type": "markdown",
   "metadata": {},
   "source": [
    "# tensorflow Session"
   ]
  },
  {
   "cell_type": "code",
   "execution_count": null,
   "metadata": {},
   "outputs": [],
   "source": [
    "sess = tf.Session()\n",
    "sess.run(...)\n",
    "sess.close()"
   ]
  },
  {
   "cell_type": "code",
   "execution_count": null,
   "metadata": {},
   "outputs": [],
   "source": [
    "with tf.Session() as sess:\n",
    "  sess.run(...)"
   ]
  },
  {
   "cell_type": "raw",
   "metadata": {},
   "source": [
    "Session 运行的时候有时需要feed_dict(需要用到占位符placeholder时)，其实就是为要运行的operation提供所需的变量值。"
   ]
  },
  {
   "cell_type": "code",
   "execution_count": null,
   "metadata": {},
   "outputs": [],
   "source": [
    "import tensorflow as tf\n",
    "import numpy as np\n",
    "\n",
    "# 定义placeholder\n",
    "input1 = tf.placeholder(tf.float32)\n",
    "input2 = tf.placeholder(tf.float32)\n",
    "\n",
    "# 定义乘法运算\n",
    "output = tf.multiply(input1, input2)\n",
    "\n",
    "# 通过session执行乘法运行\n",
    "with tf.Session() as sess:\n",
    "    # 执行时要传入placeholder的值\n",
    "    print sess.run(output, feed_dict = {input1:[7.], input2: [2.]})"
   ]
  },
  {
   "cell_type": "markdown",
   "metadata": {},
   "source": [
    "# Loss函数"
   ]
  },
  {
   "cell_type": "markdown",
   "metadata": {},
   "source": [
    "#### MSE"
   ]
  },
  {
   "cell_type": "code",
   "execution_count": null,
   "metadata": {},
   "outputs": [],
   "source": [
    "MSE = tf.reduce_mean(tf.pow(tf.sub(logits, labels), 2.))\n",
    "MSE = tf.reduce_mean(tf.square(tf.sub(logits, labels)))\n",
    "MSE = tf.reduce_mean(tf.square(logits, labels))"
   ]
  },
  {
   "cell_type": "markdown",
   "metadata": {},
   "source": [
    "#### 交叉熵损失函数："
   ]
  },
  {
   "cell_type": "code",
   "execution_count": null,
   "metadata": {},
   "outputs": [],
   "source": [
    "tf.nn.softmax_cross_entropy_with_logits\n",
    "tf.nn.sparse_softmax_cross_entropy_with_logits\n",
    "tf.nn.sigmoid_cross_entropy_with_logits\n",
    "tf.nn.weighted_cross_entropy_with_logits"
   ]
  },
  {
   "cell_type": "markdown",
   "metadata": {},
   "source": [
    "### 具体可参考\n",
    "https://blog.csdn.net/zlrai5895/article/details/80382076"
   ]
  },
  {
   "cell_type": "markdown",
   "metadata": {},
   "source": [
    "# 优化器\n",
    "\n",
    "tensorflow 的优化器其实就是用于求解loss下降的过程，其内部包含compute_gradients和apply_gradients的过程，前者为每个可训练的变量计算器梯度，后者用于梯度更新。\n",
    "\n",
    "不同优化器之间的不同在于对求解到的梯度进行了不同的操作，如Adam是求解梯度的一阶矩和二阶矩，然后进行进一步的操作。"
   ]
  },
  {
   "cell_type": "code",
   "execution_count": null,
   "metadata": {},
   "outputs": [],
   "source": [
    " tf.train.GradientDescentOptimizer\n",
    " tf.train.AdamOptimizer\n",
    " tf.train.AdadeltaOptimizer\n",
    " tf.train.AdagradOptimizer\n",
    " tf.train.MomentumOptimizer"
   ]
  },
  {
   "cell_type": "markdown",
   "metadata": {},
   "source": [
    "### 学习率\n",
    "学习率指数设置下降"
   ]
  },
  {
   "cell_type": "code",
   "execution_count": null,
   "metadata": {},
   "outputs": [],
   "source": [
    "learning_rate=tf.train.exponential_decay(1e-2,global_step,decay_steps=100,decay_rate=0.98,staircase=True) "
   ]
  },
  {
   "cell_type": "raw",
   "metadata": {},
   "source": [
    "具体可看tensorflow内部定义"
   ]
  }
 ],
 "metadata": {
  "kernelspec": {
   "display_name": "Python 3",
   "language": "python",
   "name": "python3"
  },
  "language_info": {
   "codemirror_mode": {
    "name": "ipython",
    "version": 3
   },
   "file_extension": ".py",
   "mimetype": "text/x-python",
   "name": "python",
   "nbconvert_exporter": "python",
   "pygments_lexer": "ipython3",
   "version": "3.6.3"
  },
  "toc": {
   "base_numbering": 1,
   "nav_menu": {},
   "number_sections": true,
   "sideBar": true,
   "skip_h1_title": false,
   "title_cell": "Table of Contents",
   "title_sidebar": "Contents",
   "toc_cell": false,
   "toc_position": {
    "height": "calc(100% - 180px)",
    "left": "10px",
    "top": "150px",
    "width": "320px"
   },
   "toc_section_display": true,
   "toc_window_display": true
  },
  "varInspector": {
   "cols": {
    "lenName": 16,
    "lenType": 16,
    "lenVar": 40
   },
   "kernels_config": {
    "python": {
     "delete_cmd_postfix": "",
     "delete_cmd_prefix": "del ",
     "library": "var_list.py",
     "varRefreshCmd": "print(var_dic_list())"
    },
    "r": {
     "delete_cmd_postfix": ") ",
     "delete_cmd_prefix": "rm(",
     "library": "var_list.r",
     "varRefreshCmd": "cat(var_dic_list()) "
    }
   },
   "types_to_exclude": [
    "module",
    "function",
    "builtin_function_or_method",
    "instance",
    "_Feature"
   ],
   "window_display": false
  }
 },
 "nbformat": 4,
 "nbformat_minor": 2
}
