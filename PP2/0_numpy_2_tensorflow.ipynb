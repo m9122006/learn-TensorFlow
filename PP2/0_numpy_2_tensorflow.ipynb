{
 "cells": [
  {
   "cell_type": "markdown",
   "metadata": {},
   "source": [
    "### Numpy与Tersorflow的比较\n",
    "\n",
    "#### 转换\n",
    "\n",
    "Numpy的Ndarry可以和Tensorflow的tensor相互转化。"
   ]
  },
  {
   "cell_type": "code",
   "execution_count": null,
   "metadata": {},
   "outputs": [],
   "source": [
    "import tensorflow as tf\n",
    "import numpy as np"
   ]
  },
  {
   "cell_type": "code",
   "execution_count": null,
   "metadata": {},
   "outputs": [],
   "source": [
    "a = np.zeros((3, 3))\n",
    "ta = tf.convert_to_tensor(a)\n",
    "with tf.Session() as sess:\n",
    "    print(sess.run(ta))"
   ]
  },
  {
   "cell_type": "markdown",
   "metadata": {},
   "source": [
    "#### 算术操作\n",
    "\n",
    "##### 加法操作\n",
    "\n",
    "Tensor、numpy  两个的效果一致遇到不相同的维度时，会自动扩充。但是同一维度上的大小必须一致的，除了某一维度是值是1的情况。Tensor的shape是（tensor，1）和（1,tensor）这是可以相加的，会自动扩充。\n",
    "\n",
    "##### 矩阵乘法\n",
    "\n",
    "Tensor : A * B 表示按元素计算\n",
    "​               tf.mul(A,B)  表示按元素计算\n",
    "​               tf.matmul(A,B) 表示矩阵乘法\n",
    "\n",
    "numpy: A * B 表示按元素计算\n",
    "​              dot(A,B)表示矩阵乘法\n",
    "\n",
    "##### 数据类型转换"
   ]
  },
  {
   "cell_type": "code",
   "execution_count": null,
   "metadata": {},
   "outputs": [],
   "source": [
    "tf.to_double(a)\n",
    "tf.to_float(a)"
   ]
  },
  {
   "cell_type": "markdown",
   "metadata": {},
   "source": [
    "##### **形状操作**\n",
    "\n",
    "```\n",
    "1.shape\n",
    "numpy：a.shape()\n",
    "Tensor：a.get_shape()  tf.shape(a)\n",
    "\n",
    "2.reshape\n",
    "Tensor：tf.reshape(a, (1,4))\n",
    "numpy：np.reshape(a,(1,4))\n",
    "\n",
    "3.tf.size(a)返回数据的元素数量\n",
    "tf.constant([[[1, 1, 1], [2, 2, 2]], [[3, 3, 3], [4, 4, 4]]]])    size  = 12\n",
    "\n",
    "4.tf.rank(a) 返回tensor的rank \n",
    "#’t’ is [[[1, 1, 1], [2, 2, 2]], [[3, 3, 3], [4, 4, 4]]]\n",
    "# shape of tensor ‘t’ is [2, 2, 3]\n",
    "rank(t) ==> 3\n",
    "\n",
    "5.某一维求和\n",
    "Tensor：tf.reduce_sum(b,reduction_indices=1)\n",
    "numpy：np.sum(b,axis=1)\n",
    "```"
   ]
  },
  {
   "cell_type": "code",
   "execution_count": null,
   "metadata": {},
   "outputs": [],
   "source": [
    "print(ta.get_shape())\n",
    "tb=tf.reshape(ta,(1,9))\n",
    "print(tb.get_shape())\n",
    "print(tf.reduce_sum(tb,reduction_indices=1))"
   ]
  },
  {
   "cell_type": "markdown",
   "metadata": {},
   "source": [
    "##### 数组操作\n",
    "\n",
    "```\n",
    "1.合并、连接数组\n",
    "Tensor：tf.concat(0,[a,b])第一个参数表述位数，若a （1，128，128，3）  b( 1，128，128，3）\n",
    "tf.concat(0,[a,b])  ( 2，128，128，3）\n",
    "numpy：vstack 和 hstack  stack(a,axis)\n",
    "\n",
    "2.获取整行整列数据\n",
    "Tensor：\n",
    "temp = tf.constant(0,shape=[5,5])\n",
    "temp1 = temp[0,:] 获取某行\n",
    "temp2 = temp[:,1] 获取某列\n",
    "temp[1,1]  获取某个元素\n",
    "temp[1:3,1:3]  获取某个范围的行列元素 \n",
    "\n",
    "3.打包\n",
    "tf.pack(values, axis=0, name=’pack’)\n",
    "# ‘x’ is [1, 4], ‘y’ is [2, 5], ‘z’ is [3, 6]\n",
    "pack([x, y, z]) => [[1, 4], [2, 5], [3, 6]] \n",
    "# 沿着第一维pack\n",
    "pack([x, y, z], axis=1) => [[1, 2, 3], [4, 5, 6]]\n",
    "等价于tf.pack([x, y, z]) = np.asarray([x, y, z])\n",
    "\n",
    "4.tf.transpose(a, perm=None, name=’transpose’)\n",
    "调换tensor的维度顺序\n",
    "```"
   ]
  },
  {
   "cell_type": "code",
   "execution_count": null,
   "metadata": {},
   "outputs": [],
   "source": [
    "t1=[[1,2,3],[4,5,6]]\n",
    "t2=[[7,8,9],[10,11,12]]\n",
    "\n",
    "with tf.Session() as sess:\n",
    "    print(sess.run(tf.concat([t1,t2],0)))\n",
    "    print(sess.run(tf.concat([t1,t2],1)))"
   ]
  },
  {
   "cell_type": "markdown",
   "metadata": {},
   "source": [
    "##### **矩阵相关操作**\n",
    "\n",
    "```  \n",
    "1.tf.matrix_inverse  方阵的逆矩阵\n",
    "2.tf.matrix_determinant  方阵的行列式\n",
    "3.tf.transpose转置  \n",
    "4.tf.diag  给定对角线上的值，返回对角tensor1234\n",
    "```"
   ]
  },
  {
   "cell_type": "code",
   "execution_count": null,
   "metadata": {},
   "outputs": [],
   "source": []
  }
 ],
 "metadata": {
  "kernelspec": {
   "display_name": "Python 3",
   "language": "python",
   "name": "python3"
  },
  "language_info": {
   "codemirror_mode": {
    "name": "ipython",
    "version": 3
   },
   "file_extension": ".py",
   "mimetype": "text/x-python",
   "name": "python",
   "nbconvert_exporter": "python",
   "pygments_lexer": "ipython3",
   "version": "3.7.3"
  }
 },
 "nbformat": 4,
 "nbformat_minor": 2
}
