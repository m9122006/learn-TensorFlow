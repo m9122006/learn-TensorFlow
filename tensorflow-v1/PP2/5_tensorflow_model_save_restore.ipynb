{
 "cells": [
  {
   "cell_type": "code",
   "execution_count": null,
   "metadata": {},
   "outputs": [],
   "source": [
    "import tensorflow as tf"
   ]
  },
  {
   "cell_type": "code",
   "execution_count": null,
   "metadata": {
    "collapsed": true
   },
   "outputs": [],
   "source": [
    "v1=tf.Variable([[1,2],[3,4]], dtype=tf.float32, name=\"v1\")\n",
    "v2=tf.Variable([[5,6],[7,8]], dtype=tf.float32, name=\"v2\")\n",
    "\n",
    "v=tf.add(v1,v2)\n",
    "\n",
    "init_op = tf.global_variables_initializer()\n",
    "\n",
    "# tf.train.Saver\n",
    "saver = tf.train.Saver()"
   ]
  },
  {
   "cell_type": "code",
   "execution_count": null,
   "metadata": {},
   "outputs": [],
   "source": [
    "with tf.Session() as sess:\n",
    "    sess.run(init_op)\n",
    "    print(sess.run(v))\n",
    "    saver.save(sess,\"./tmp/model.ckpt\")"
   ]
  },
  {
   "cell_type": "code",
   "execution_count": null,
   "metadata": {},
   "outputs": [],
   "source": [
    "saver1=tf.train.import_meta_graph(\"./tmp/model.ckpt.meta\")\n",
    "with tf.Session() as sess:\n",
    "    saver1.restore(sess, \"./tmp/model.ckpt\")\n",
    "    print(sess.run(tf.get_default_graph().get_tensor_by_name(\"Add:0\")))"
   ]
  },
  {
   "cell_type": "code",
   "execution_count": null,
   "metadata": {
    "collapsed": true
   },
   "outputs": [],
   "source": []
  }
 ],
 "metadata": {
  "kernelspec": {
   "display_name": "Python 3",
   "language": "python",
   "name": "python3"
  },
  "language_info": {
   "codemirror_mode": {
    "name": "ipython",
    "version": 3
   },
   "file_extension": ".py",
   "mimetype": "text/x-python",
   "name": "python",
   "nbconvert_exporter": "python",
   "pygments_lexer": "ipython3",
   "version": "3.6.3"
  }
 },
 "nbformat": 4,
 "nbformat_minor": 2
}
